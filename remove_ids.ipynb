{
 "cells": [
  {
   "cell_type": "code",
   "execution_count": 15,
   "id": "8fe886d1",
   "metadata": {},
   "outputs": [],
   "source": [
    "import json\n",
    "import datetime as dt\n",
    "import os"
   ]
  },
  {
   "cell_type": "code",
   "execution_count": 14,
   "id": "c863a913",
   "metadata": {},
   "outputs": [],
   "source": [
    "path1 = \"ms-jobs/jobs_ms.json\"\n",
    "path2 = \"ms-jobs/jobs_ms_details.json\""
   ]
  },
  {
   "cell_type": "code",
   "execution_count": 16,
   "id": "a3108337",
   "metadata": {},
   "outputs": [],
   "source": [
    "data1 = json.load(open(path1, 'r', encoding='utf-8'))\n",
    "data2 = json.load(open(path2, 'r', encoding='utf-8'))"
   ]
  },
  {
   "cell_type": "code",
   "execution_count": 17,
   "id": "f6687737",
   "metadata": {},
   "outputs": [
    {
     "name": "stdout",
     "output_type": "stream",
     "text": [
      "Data1 IDs: 701\n",
      "Data2 IDs: 701\n",
      "IDs to remove: 0\n"
     ]
    }
   ],
   "source": [
    "data1_ids = set(data1.keys())\n",
    "data2_ids = set(data2.keys())\n",
    "print(f\"Data1 IDs: {len(data1_ids)}\")\n",
    "print(f\"Data2 IDs: {len(data2_ids)}\")\n",
    "ids_to_remove = data1_ids - data2_ids\n",
    "print(f\"IDs to remove: {len(ids_to_remove)}\")"
   ]
  },
  {
   "cell_type": "code",
   "execution_count": 18,
   "id": "efc789cd",
   "metadata": {},
   "outputs": [
    {
     "name": "stdout",
     "output_type": "stream",
     "text": [
      "Cleaned data1 saved.\n"
     ]
    }
   ],
   "source": [
    "# Save cleaned data1\n",
    "for job_id in ids_to_remove:\n",
    "    del data1[job_id]\n",
    "json.dump(data1, open(path1, 'w', encoding='utf-8'), indent=4, ensure_ascii=False)\n",
    "print(\"Cleaned data1 saved.\")\n"
   ]
  }
 ],
 "metadata": {
  "kernelspec": {
   "display_name": "venv",
   "language": "python",
   "name": "python3"
  },
  "language_info": {
   "codemirror_mode": {
    "name": "ipython",
    "version": 3
   },
   "file_extension": ".py",
   "mimetype": "text/x-python",
   "name": "python",
   "nbconvert_exporter": "python",
   "pygments_lexer": "ipython3",
   "version": "3.10.11"
  }
 },
 "nbformat": 4,
 "nbformat_minor": 5
}
